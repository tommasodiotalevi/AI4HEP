{
 "cells": [
  {
   "cell_type": "markdown",
   "id": "00a17a09-c423-4252-af08-b99951129168",
   "metadata": {},
   "source": [
    "# Create QKeras model"
   ]
  },
  {
   "cell_type": "markdown",
   "id": "7d7edc25-85e7-4641-93eb-ad5a9f85fee1",
   "metadata": {},
   "source": [
    "Import NN libraries, including QKeras"
   ]
  },
  {
   "cell_type": "code",
   "execution_count": null,
   "id": "d4900cad-9b98-4e34-9ed4-b49d46888efc",
   "metadata": {},
   "outputs": [],
   "source": [
    "from tensorflow.random import set_seed\n",
    "from tensorflow.keras.models import Sequential\n",
    "from tensorflow.keras.optimizers import Adam\n",
    "from sklearn.model_selection import train_test_split\n",
    "from sklearn.metrics import mean_squared_error\n",
    "from tensorflow.keras.callbacks import History \n",
    "import matplotlib.pyplot as plt\n",
    "from qkeras.qlayers import QDense, QActivation\n",
    "from qkeras.quantizers import quantized_bits, quantized_relu\n",
    "\n",
    "#Custom defined functions for data processing\n",
    "from utils.utils import *"
   ]
  },
  {
   "cell_type": "markdown",
   "id": "0e1f6ea4-4fda-45a9-99b8-ef11b281f117",
   "metadata": {},
   "source": [
    "Import libraries for pruning:"
   ]
  },
  {
   "cell_type": "code",
   "execution_count": null,
   "id": "6b1502e0-e01b-49f1-8084-ab3d98c019b0",
   "metadata": {},
   "outputs": [],
   "source": [
    "from tensorflow_model_optimization.python.core.sparsity.keras import prune, pruning_callbacks, pruning_schedule\n",
    "from tensorflow_model_optimization.sparsity.keras import strip_pruning"
   ]
  },
  {
   "cell_type": "markdown",
   "id": "8282c33f-ee39-47c7-a887-2154474a0350",
   "metadata": {},
   "source": [
    "Set random seeds:"
   ]
  },
  {
   "cell_type": "code",
   "execution_count": null,
   "id": "d02352f5-962f-4bcf-aef9-5f64cbc32bb7",
   "metadata": {},
   "outputs": [],
   "source": [
    "seed = 12345\n",
    "np.random.seed(seed)\n",
    "set_seed(seed)"
   ]
  },
  {
   "cell_type": "markdown",
   "id": "2cf4635c-9455-4ec7-bec9-83a0f530f034",
   "metadata": {},
   "source": [
    "Start by loading the dataset, and perform train/test split:"
   ]
  },
  {
   "cell_type": "code",
   "execution_count": null,
   "id": "930b5d5e-51bf-4095-9ca6-f78c0e7fe16e",
   "metadata": {
    "scrolled": true
   },
   "outputs": [],
   "source": [
    "X,Y = preproc()\n",
    "\n",
    "x_train, x_valid, y_train, y_valid = train_test_split(X, Y, test_size=0.2,random_state=seed)\n",
    "initial_lr = 0.001\n",
    "optimizer = Adam(learning_rate=initial_lr)"
   ]
  },
  {
   "cell_type": "markdown",
   "id": "c7efcfe2-3115-4c00-bb54-c28387f1e071",
   "metadata": {},
   "source": [
    "Define and train the quantized model (with pruning). Quantization is handled by **QKeras layers**, which requires (among other typical Keras options) the numerical precision: in this case _fixed point_ numbers (16,1), where 16 is the width and 1 is the integer part"
   ]
  },
  {
   "cell_type": "code",
   "execution_count": null,
   "id": "08df81b6-8e09-4040-80ee-84510c19cba8",
   "metadata": {},
   "outputs": [],
   "source": [
    "# create model\n",
    "name=\"RMSE validation\"\n",
    "name2=\"RMSE training\"\n",
    "\n",
    "history = History()\n",
    "model = Sequential()\n",
    "\n",
    "model.add(QDense(60,  input_shape=(27,),kernel_quantizer=quantized_bits(16,1),bias_quantizer=quantized_bits(16,1), kernel_initializer='random_normal'))\n",
    "model.add(QActivation(activation=quantized_relu(16,1), name='relu1'))\n",
    "model.add(QDense(50,kernel_quantizer=quantized_bits(16,1),bias_quantizer=quantized_bits(16,1)))\n",
    "model.add(QActivation(activation=quantized_relu(16,1), name='relu2'))\n",
    "model.add(QDense(30,kernel_quantizer=quantized_bits(16,1),bias_quantizer=quantized_bits(16,1)))\n",
    "model.add(QActivation(activation=quantized_relu(16,1), name='relu3'))\n",
    "model.add(QDense(40,kernel_quantizer=quantized_bits(16,1),bias_quantizer=quantized_bits(16,1)))\n",
    "model.add(QActivation(activation=quantized_relu(16,1), name='relu4'))\n",
    "model.add(QDense(15,kernel_quantizer=quantized_bits(16,1),bias_quantizer=quantized_bits(16,1)))\n",
    "model.add(QActivation(activation=quantized_relu(16,1), name='relu5'))\n",
    "model.add(QDense(1,kernel_quantizer=quantized_bits(16,1)))\n",
    "model.add(QActivation(activation=quantized_relu(16,1), name='relu6'))\n",
    "    \n",
    "## Define pruning schedule\n",
    "pruning_params = {\"pruning_schedule\" : pruning_schedule.ConstantSparsity(0.75, begin_step=2000, frequency=100)} ## Add pruning wrapper around each model layer\n",
    "model = prune.prune_low_magnitude(model, **pruning_params)\n",
    "        \n",
    "model.compile(loss='mean_squared_error', optimizer=optimizer)\n",
    "model.fit(x_train, y_train,\n",
    "        batch_size=256,\n",
    "        epochs=10,\n",
    "        verbose=1,\n",
    "        validation_data=(x_valid, y_valid),\n",
    "        callbacks=[history,pruning_callbacks.UpdatePruningStep()])\n",
    "        \n",
    "model = strip_pruning(model) # Remove the wrapping and remain with the \"Keras-like\" model\n",
    "w = model.layers[0].weights[0].numpy()\n",
    "h, b = np.histogram(w, bins=100)\n",
    "plt.figure(figsize=(7,7))\n",
    "plt.bar(b[:-1], h, width=b[1]-b[0])\n",
    "plt.semilogy()\n",
    "plt.show()\n",
    "\n",
    "print('% of zeros = {}'.format(np.sum(w==0)/np.size(w)))"
   ]
  },
  {
   "cell_type": "markdown",
   "id": "08fa50d2-2e0f-4bcb-922f-2d88887ce76d",
   "metadata": {},
   "source": [
    "Perform model predictions, and save the model in a separate .h5 file"
   ]
  },
  {
   "cell_type": "code",
   "execution_count": null,
   "id": "3ed603bb-9b49-48ba-90f9-4eea8b84083a",
   "metadata": {},
   "outputs": [],
   "source": [
    "train_predictions = model.predict(x_train)\n",
    "predictions = model.predict(x_valid)\n",
    "lin_mse = mean_squared_error(y_valid, predictions)\n",
    "lin_rmse = np.sqrt(lin_mse)\n",
    "lin_mse2 = mean_squared_error(y_train, train_predictions)\n",
    "lin_rmse2 = np.sqrt(lin_mse2)\n",
    "msg = \"%s: %f\" % (name, lin_rmse)\n",
    "msg2 = \"%s: %f\" % (name2, lin_rmse2)\n",
    "print(msg)\n",
    "print(msg2)\n",
    "\n",
    "model.save('model.h5')"
   ]
  },
  {
   "cell_type": "markdown",
   "id": "16e941fb-7d0c-4e1c-a596-74639ac23518",
   "metadata": {},
   "source": [
    "Plot the regression scatter plot: measured p_T vs predicted p_T"
   ]
  },
  {
   "cell_type": "code",
   "execution_count": null,
   "id": "d362ca46-0842-42e4-8f01-4b4dff9fdba6",
   "metadata": {},
   "outputs": [],
   "source": [
    "fig,ax = plt.subplots()\n",
    "ax.scatter(y_valid, predictions, edgecolors=(0, 0, 0))\n",
    "ax.set_title('Regression model predictions (validation set)')\n",
    "ax.set_xlabel('Measured $p_T$ (GeV/c)')\n",
    "ax.set_ylabel('Predicted $p_T$ (GeV/c)')\n",
    "ax.plot([Y.min(), Y.max()], [Y.min(), Y.max()], 'k--', lw=4)\n",
    "plt.rc('font', size=20)\n",
    "plt.rc('axes', titlesize=18)\n",
    "plt.rc('axes', labelsize=18)    \n",
    "plt.rc('xtick', labelsize=18)   \n",
    "plt.rc('ytick', labelsize=18)  \n",
    "plt.rc('legend', fontsize=18)    \n",
    "plt.rc('figure', titlesize=18)\n",
    "plt.tight_layout()\n",
    "plt.show()"
   ]
  },
  {
   "cell_type": "markdown",
   "id": "08891975-8787-474f-a6be-161c1b766ae7",
   "metadata": {},
   "source": [
    "Plot the loss per epoch history, for both training and validation:"
   ]
  },
  {
   "cell_type": "code",
   "execution_count": null,
   "id": "8a0c9c5a-d03a-43b1-a379-85702d84df3d",
   "metadata": {},
   "outputs": [],
   "source": [
    "fig2,ax2 = plt.subplots()\n",
    "ax2.plot(history.history['loss'], label='loss')\n",
    "ax2.plot(history.history['val_loss'], label='val_loss')\n",
    "ax2.set_title('Training and Validation loss per epoch')\n",
    "ax2.set_xlabel('# Epoch')\n",
    "ax2.set_ylabel('loss')\n",
    "plt.legend()\n",
    "plt.tight_layout()\n",
    "plt.show()"
   ]
  }
 ],
 "metadata": {
  "kernelspec": {
   "display_name": "Python 3 (ipykernel)",
   "language": "python",
   "name": "python3"
  },
  "language_info": {
   "codemirror_mode": {
    "name": "ipython",
    "version": 3
   },
   "file_extension": ".py",
   "mimetype": "text/x-python",
   "name": "python",
   "nbconvert_exporter": "python",
   "pygments_lexer": "ipython3",
   "version": "3.11.8"
  }
 },
 "nbformat": 4,
 "nbformat_minor": 5
}
